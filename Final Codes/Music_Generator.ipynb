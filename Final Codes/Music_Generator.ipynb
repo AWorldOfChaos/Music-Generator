{
  "nbformat": 4,
  "nbformat_minor": 0,
  "metadata": {
    "accelerator": "GPU",
    "colab": {
      "name": "Final_ITSP.ipynb",
      "provenance": [],
      "collapsed_sections": []
    },
    "kernelspec": {
      "display_name": "Python 3",
      "language": "python",
      "name": "python3"
    },
    "language_info": {
      "codemirror_mode": {
        "name": "ipython",
        "version": 3
      },
      "file_extension": ".py",
      "mimetype": "text/x-python",
      "name": "python",
      "nbconvert_exporter": "python",
      "pygments_lexer": "ipython3",
      "version": "3.8.5"
    }
  },
  "cells": [
    {
      "cell_type": "markdown",
      "metadata": {
        "id": "6TPytdE1iuPx"
      },
      "source": [
        "# **Importing Dependencies and Dataset**\n",
        "We import all the required libraries and mount drive so as to get the dataset."
      ]
    },
    {
      "cell_type": "code",
      "metadata": {
        "id": "UVeE0YDeom16"
      },
      "source": [
        "import torch\n",
        "import torch.nn as nn\n",
        "import torch.nn.functional as F\n",
        "import glob\n",
        "import numpy as np\n",
        "import csv\n",
        "import pandas as pd\n",
        "import random\n",
        "from music21 import converter, instrument ,note ,chord ,stream\n",
        "from matplotlib import pyplot as plt\n",
        "%matplotlib inline"
      ],
      "execution_count": null,
      "outputs": []
    },
    {
      "cell_type": "code",
      "metadata": {
        "id": "VreKeLv4kIqZ",
        "colab": {
          "base_uri": "https://localhost:8080/"
        },
        "outputId": "7e690130-8114-4978-caf7-e6e78bfddf3d"
      },
      "source": [
        "from google.colab import drive\n",
        "from google.colab import files\n",
        "drive.mount(\"/content/gdrive\")"
      ],
      "execution_count": null,
      "outputs": [
        {
          "output_type": "stream",
          "text": [
            "Mounted at /content/gdrive\n"
          ],
          "name": "stdout"
        }
      ]
    },
    {
      "cell_type": "markdown",
      "metadata": {
        "id": "Od64UmpPjR4W"
      },
      "source": [
        "\n",
        "# **Using a GPU**\n",
        "\n",
        "To seamlessly use GPU, if one is available, we define a couple of header functions (get_default_device & to_device) and a helper class DeviceDataLoader to move our model and data to the GPU as required."
      ]
    },
    {
      "cell_type": "code",
      "metadata": {
        "id": "Tgixy7d8kBPM"
      },
      "source": [
        "def get_default_device():\n",
        "  \"\"\"pick GPU if available , else GPU\"\"\"\n",
        "  if torch.cuda.is_available():\n",
        "    return torch.device('cuda')\n",
        "  else: \n",
        "    return torch.device('cpu')\n",
        "\n",
        "def to_device(data ,device):\n",
        "  \"\"\"Move tensor(s) to chosen device\"\"\"\n",
        "  if isinstance(data,(list,tuple)):\n",
        "    return [to_device(x,device) for x in data]\n",
        "  return data.to(device, non_blocking=True)\n",
        "\n",
        "class DeviceDataLoader():\n",
        "  \"\"\"Wrap a dataloader to move data to a device\"\"\"\n",
        "  def __init__(self,dl,device):\n",
        "    self.dl=dl\n",
        "    self.device=device\n",
        "\n",
        "  def __iter__(self):\n",
        "    \"\"\"Yield a batch of data after moving ot to device\"\"\"\n",
        "    for b in self.dl:\n",
        "      yield to_device(b,self.device)\n",
        "\n",
        "  def __len__(self):\n",
        "    \"\"\"Number of Batches\"\"\"\n",
        "    return len(self.dl)"
      ],
      "execution_count": null,
      "outputs": []
    },
    {
      "cell_type": "code",
      "metadata": {
        "colab": {
          "base_uri": "https://localhost:8080/"
        },
        "id": "m0bT4PHGogif",
        "outputId": "4157e73b-2d71-4599-8ad1-787be4c7cf83"
      },
      "source": [
        "\"\"\"Setting up cuda device\"\"\"\n",
        "device = get_default_device()\n",
        "device"
      ],
      "execution_count": null,
      "outputs": [
        {
          "output_type": "execute_result",
          "data": {
            "text/plain": [
              "device(type='cuda')"
            ]
          },
          "metadata": {
            "tags": []
          },
          "execution_count": 4
        }
      ]
    },
    {
      "cell_type": "markdown",
      "metadata": {
        "id": "6QwZLvXEik8V"
      },
      "source": [
        "# **Conversion of MIDI files**\n",
        "\n",
        "We must define functions to convert MIDI files to usable data formats."
      ]
    },
    {
      "cell_type": "code",
      "metadata": {
        "id": "WSO6Tc4IBtLf"
      },
      "source": [
        "def convert_midi_to_notes(file):\n",
        "  \"\"\"Convets midi files to musical notes\"\"\"\n",
        "  \n",
        "  notes=[]\n",
        "  midi =converter.parse(file)\n",
        "  notes_to_parse=None\n",
        "  parts =instrument.partitionByInstrument(midi)\n",
        "\n",
        "  if parts: #file has instrument parts\n",
        "    notes_to_parse=parts.parts[0].recurse()\n",
        "  else:\n",
        "    notes_to_parse=midi.flat.notes_to_parse\n",
        "\n",
        "  for i,element in enumerate(notes_to_parse):\n",
        "    if isinstance(element,note.Note): #if the element is instance of note\n",
        "        notes.append(str(element.pitch))\n",
        "    elif isinstance(element,note.Rest):# if the element is instance of the Rest Object\n",
        "      notes.append('rest')\n",
        "    elif isinstance(element,chord.Chord):# if element is instance of chord\n",
        "      notes.append(','.join(str(n) for n in element.normalOrder))\n",
        "\n",
        "  return notes"
      ],
      "execution_count": null,
      "outputs": []
    },
    {
      "cell_type": "code",
      "metadata": {
        "id": "zXZ34dFrbQP7"
      },
      "source": [
        "#two helper functions to save us from the pain of waiting for too long preprocessing time\n",
        "def convert_to_csvN(notes):\n",
        "  \"\"\"Converts list of notes to csv format\"\"\"\n",
        "  df=pd.DataFrame(notes)\n",
        "  df.to_csv('csv_DataSet.csv',index=False)\n",
        "\n",
        "def convert_to_csvL(notes):\n",
        "  \"\"\"Converts list of length of files to csv format\"\"\"\n",
        "  df=pd.DataFrame(notes)\n",
        "  df.to_csv('csv_Length.csv',index=False)\n",
        "\n",
        "def create_data_set_fromCSVN(NameOfFile):\n",
        "  \"\"\"Creates dataset from already pre-processed data that has been stored in the form of csv\"\"\"\n",
        "  f=open(NameOfFile)\n",
        "  csv_reader=csv.reader(f)\n",
        "  notes=[]\n",
        "  for row in csv_reader:\n",
        "    notes+=row\n",
        "  \n",
        "  #done to remove unwanted '0' string \n",
        "  del notes[0]\n",
        "  \n",
        "  return notes\n",
        "\n",
        "def create_data_set_fromCSVL(NameOfFile):\n",
        "  \"\"\"Creates List of length of notes of files \"\"\"\n",
        "  f=open(NameOfFile)\n",
        "  csv_reader=csv.reader(f)\n",
        "  notes=[]\n",
        "  for row in csv_reader:\n",
        "    notes+=[int(row[0])]\n",
        "  \n",
        "  #done to remove unwanted '0' string \n",
        "  del notes[0]\n",
        "  \n",
        "  return notes"
      ],
      "execution_count": null,
      "outputs": []
    },
    {
      "cell_type": "markdown",
      "metadata": {
        "id": "aYFiPqmKkK2S"
      },
      "source": [
        "# **Dataset Preparation** "
      ]
    },
    {
      "cell_type": "code",
      "metadata": {
        "id": "-N-VMkFCDhy0"
      },
      "source": [
        "def conv_notes_to_dict(notes):\n",
        "  \"\"\"converts notes into a dictionary that uses notes as keys and values as serial integers as values\"\"\"\n",
        "  \n",
        "  pitchnames=set(item for item in notes)\n",
        "\n",
        "  notes_to_int =dict((notes,number) for number, notes in enumerate(pitchnames))\n",
        "\n",
        "  return notes_to_int"
      ],
      "execution_count": null,
      "outputs": []
    },
    {
      "cell_type": "code",
      "metadata": {
        "id": "MztHIxPuEVzW"
      },
      "source": [
        "def create_dataset(notes_to_int,notes,l,sequence_length=100,target_length=1):\n",
        "  \"\"\"Creates input and corresponding output sequence\"\"\"\n",
        "  \n",
        "  net_in=[]\n",
        "  net_out=[]\n",
        "  count=0\n",
        "  for j in range(len(l)):\n",
        "\n",
        "    for i in range(count,count+l[j]-sequence_length,1):\n",
        "      seq_in=notes[i:i+sequence_length]\n",
        "      seq_out=notes[i+sequence_length]\n",
        "      net_in.append([notes_to_int[c] for c in seq_in])\n",
        "      net_out.append(notes_to_int[seq_out])\n",
        "    count+=l[j]\n",
        "\n",
        "  n_pattern= len(net_in)\n",
        "\n",
        "  net_in =np.reshape(net_in,(n_pattern,sequence_length,1))\n",
        "\n",
        "  net_out=np.array(net_out)\n",
        "\n",
        "  return net_in ,net_out"
      ],
      "execution_count": null,
      "outputs": []
    },
    {
      "cell_type": "code",
      "metadata": {
        "id": "MkgT45-SAq_S"
      },
      "source": [
        "def prepare_input_dataLoader(input,batch_size):\n",
        "  \"\"\"Prepare train_dl and corresponding out_loader\"\"\"\n",
        "  \n",
        "  train_loader=torch.utils.data.DataLoader(input ,batch_size=batch_size,shuffle=False,num_workers=2)\n",
        "  return train_loader\n",
        "\n",
        "def prepare_output_dataLoader(output, batch_size):\n",
        "  out_loader =torch.utils.data.DataLoader(output, batch_size=batch_size,shuffle=False,num_workers=2)\n",
        "  return out_loader"
      ],
      "execution_count": null,
      "outputs": []
    },
    {
      "cell_type": "code",
      "metadata": {
        "id": "O8rIO7pvVSn7"
      },
      "source": [
        "#Extracting notes from the music files in GDrive\n",
        "notes=[]\n",
        "length_of_files=[]\n",
        "\n",
        "for file in glob.glob('/content/gdrive/MyDrive/whole/*.mid'):\n",
        "  n=convert_midi_to_notes(file)\n",
        "  if len(n)>100:\n",
        "    notes+=n\n",
        "    length_of_files.append(len(n))\n",
        "\n",
        "convert_to_csvN(notes)\n",
        "convert_to_csvL(length_of_files)"
      ],
      "execution_count": null,
      "outputs": []
    },
    {
      "cell_type": "code",
      "metadata": {
        "id": "0RM07DvQJFQj"
      },
      "source": [
        "notes=create_data_set_fromCSVN('csv_DataSet(312)Notes+Chords.csv')\n",
        "length_of_files=create_data_set_fromCSVL('csv_Length(312)Notes+Chords.csv')"
      ],
      "execution_count": null,
      "outputs": []
    },
    {
      "cell_type": "code",
      "metadata": {
        "id": "NaNVIzM7xHvh"
      },
      "source": [
        "\"\"\"\n",
        "Pitchnames: Our Vocabulary of the notes ,chord and rest objects extracted from music files\n",
        "notes_to_int: Dictionary that maps unique notes to an integer\n",
        "net_in: input data\n",
        "net_out: expected output\n",
        "\"\"\"\n",
        "pitchnames =sorted(set(notes))\n",
        "notes_to_int =conv_notes_to_dict(notes)\n",
        "net_in , net_out =create_dataset(notes_to_int,notes,length_of_files,100)\n",
        "\n",
        "n_vocab=len(set(notes))"
      ],
      "execution_count": null,
      "outputs": []
    },
    {
      "cell_type": "code",
      "metadata": {
        "colab": {
          "base_uri": "https://localhost:8080/"
        },
        "id": "Jaz3bDx-Y7xy",
        "outputId": "916f5944-7fc0-433d-b829-39d89628537a"
      },
      "source": [
        "print(\"Input Shape\",net_in.shape)\n",
        "print(\"Total Vocab Size\",len(pitchnames))\n",
        "print(\"Pitchnames\",sorted(pitchnames))"
      ],
      "execution_count": null,
      "outputs": [
        {
          "output_type": "stream",
          "text": [
            "Input Shape (183329, 100, 1)\n",
            "Total Vocab Size 379\n",
            "Pitchnames ['0', '0,1', '0,1,3,6,8', '0,1,4', '0,2', '0,2,5', '0,2,5,8', '0,2,6', '0,2,6,8', '0,2,7', '0,3', '0,3,5', '0,3,5,8', '0,3,6', '0,3,6,8', '0,3,6,9', '0,3,7', '0,4', '0,4,5', '0,4,6', '0,4,7', '0,4,8', '0,5', '0,5,6', '0,6', '1', '1,2', '1,2,4,8', '1,2,5', '1,2,5,8', '1,2,6', '1,3', '1,3,5,9', '1,3,6', '1,3,6,8', '1,3,7', '1,3,7,9', '1,3,8', '1,4', '1,4,5', '1,4,6', '1,4,7', '1,4,7,10', '1,4,7,9', '1,4,8', '1,5', '1,5,7', '1,5,8', '1,5,9', '1,6', '1,7', '10', '10,0', '10,0,2,5', '10,0,2,5,7', '10,0,3', '10,0,3,6', '10,0,4', '10,0,5', '10,1', '10,1,3', '10,1,3,6', '10,1,4', '10,1,4,6', '10,1,5', '10,11', '10,11,2,5', '10,11,3', '10,11,3,6', '10,2', '10,2,3', '10,2,3,5', '10,2,4', '10,2,5', '10,3', '10,3,4', '11', '11,0', '11,0,2,5,7', '11,0,4', '11,1', '11,1,2', '11,1,2,4', '11,1,4', '11,1,4,6', '11,1,5', '11,1,6', '11,2', '11,2,3', '11,2,4', '11,2,4,6', '11,2,5', '11,2,5,7', '11,2,6', '11,3', '11,3,4', '11,3,5', '11,3,6', '11,3,6,7', '11,4', '2', '2,3', '2,3,5,8,10', '2,3,7', '2,3,8', '2,4', '2,4,7', '2,4,7,10', '2,4,8', '2,4,9', '2,5', '2,5,7', '2,5,7,10', '2,5,8', '2,5,8,10', '2,5,8,11', '2,5,9', '2,6', '2,6,10', '2,6,7', '2,6,8', '2,6,9', '2,7', '2,7,8', '2,8', '3', '3,4', '3,4,8', '3,4,9', '3,5', '3,5,10', '3,5,8', '3,5,8,10', '3,5,8,11', '3,5,9', '3,5,9,11', '3,6', '3,6,10', '3,6,8', '3,6,8,11', '3,6,9', '3,6,9,11', '3,7', '3,7,10', '3,7,11', '3,7,8', '3,7,9', '3,8', '3,8,9', '3,9', '4', '4,10', '4,5', '4,5,10', '4,5,7,10,0', '4,5,9', '4,6', '4,6,10', '4,6,11', '4,6,9', '4,6,9,0', '4,7', '4,7,10', '4,7,10,0', '4,7,11', '4,7,9', '4,8', '4,8,10', '4,8,11', '4,9', '4,9,10', '5', '5,10', '5,10,11', '5,11', '5,6', '5,6,10', '5,6,8,0', '5,6,8,10', '5,7', '5,7,0', '5,7,10', '5,7,10,1', '5,7,11', '5,7,11,1', '5,8', '5,8,0', '5,8,10', '5,8,11', '5,8,11,1', '5,9', '5,9,0', '5,9,11', '6', '6,10', '6,10,0', '6,10,1', '6,11', '6,11,0', '6,7', '6,7,0', '6,7,10', '6,7,10,1', '6,7,11,2', '6,8', '6,8,0', '6,8,1', '6,8,10,1', '6,8,10,2', '6,8,11', '6,8,11,2', '6,9', '6,9,0', '6,9,0,1', '6,9,0,2', '6,9,1', '6,9,11', '6,9,11,1', '6,9,11,2', '7', '7,0', '7,0,1', '7,10', '7,10,0', '7,10,0,3', '7,10,1', '7,10,1,3', '7,10,2', '7,11', '7,11,0', '7,11,1', '7,11,2', '7,8', '7,8,0', '7,8,1', '7,8,10,1,3', '7,8,10,2', '7,9', '7,9,0', '7,9,0,3', '7,9,1', '7,9,2', '8', '8,0', '8,0,1', '8,0,2', '8,0,3', '8,1', '8,10', '8,10,0,3', '8,10,1', '8,10,1,3', '8,10,11', '8,10,2', '8,10,2,3', '8,10,3', '8,11', '8,11,0', '8,11,1', '8,11,1,3', '8,11,1,4', '8,11,2', '8,11,2,3', '8,11,2,4', '8,11,3', '8,9', '8,9,0,3', '8,9,1', '8,9,11', '8,9,11,3', '9', '9,0', '9,0,1', '9,0,2', '9,0,2,5', '9,0,3', '9,0,3,5', '9,0,4', '9,1', '9,1,2', '9,1,3', '9,1,4', '9,10', '9,10,0,3', '9,10,0,3,5', '9,11', '9,11,1', '9,11,1,4', '9,11,2', '9,11,2,4', '9,11,2,5', '9,11,3', '9,11,4', '9,2', '9,2,3', 'A0', 'A1', 'A2', 'A3', 'A4', 'A5', 'A6', 'A7', 'B-0', 'B-1', 'B-2', 'B-3', 'B-4', 'B-5', 'B-6', 'B1', 'B2', 'B3', 'B4', 'B5', 'B6', 'C#1', 'C#2', 'C#3', 'C#4', 'C#5', 'C#6', 'C#7', 'C1', 'C2', 'C3', 'C4', 'C5', 'C6', 'C7', 'D1', 'D2', 'D3', 'D4', 'D5', 'D6', 'D7', 'E-1', 'E-2', 'E-3', 'E-4', 'E-5', 'E-6', 'E-7', 'E1', 'E2', 'E3', 'E4', 'E5', 'E6', 'E7', 'F#1', 'F#2', 'F#3', 'F#4', 'F#5', 'F#6', 'F#7', 'F1', 'F2', 'F3', 'F4', 'F5', 'F6', 'F7', 'G#1', 'G#2', 'G#3', 'G#4', 'G#5', 'G#6', 'G1', 'G2', 'G3', 'G4', 'G5', 'G6', 'G7', 'rest']\n"
          ],
          "name": "stdout"
        }
      ]
    },
    {
      "cell_type": "code",
      "metadata": {
        "id": "bed6cQA0uDZY"
      },
      "source": [
        "net_in =torch.from_numpy(net_in).to(torch.int32)\n",
        "net_out =torch.from_numpy(net_out).to(torch.int64)\n",
        "\n",
        "train_dl =DeviceDataLoader(prepare_input_dataLoader(net_in,128),device)\n",
        "out_dl =DeviceDataLoader(prepare_output_dataLoader(net_out,128),device)"
      ],
      "execution_count": null,
      "outputs": []
    },
    {
      "cell_type": "markdown",
      "metadata": {
        "id": "5lxEFjfEL5_b"
      },
      "source": [
        "# **Model Definition**\n",
        "The following cells define the model, its parameters, the encoder-decoder along with the attention mechanism. "
      ]
    },
    {
      "cell_type": "code",
      "metadata": {
        "id": "huP0o4ZSn3-U"
      },
      "source": [
        "class EncoderLSTM(nn.Module):\n",
        "  def __init__(self,input_size,embedding_size,hidden_size,num_layers,dropout,bidirectional=False):\n",
        "    \"\"\"Initialising encoder class \n",
        "    Args:\n",
        "        input_size: The number of expected features in the input x\n",
        "        embedding_size: The size of embedding layer to be used \n",
        "        hidden_size: The number of hidden features expected\n",
        "        num_layers: number of layers of lstm to be used \n",
        "        dropout: Defined the dropout fraction of lstm layer\n",
        "        bidirectional: defines whether the lstm layer is bidirectional or not\n",
        "    \"\"\"\n",
        "    super(EncoderLSTM,self).__init__()\n",
        "    self.input_size=input_size\n",
        "    self.hidden_size=hidden_size\n",
        "    self.drop_f=dropout\n",
        "    self.bi_dir=bidirectional\n",
        "    \n",
        "    self.embedding=nn.Embedding(input_size,embedding_size)\n",
        "    self.lstm=nn.LSTM(embedding_size,hidden_size,num_layers,bidirectional=bidirectional,batch_first=True)\n",
        "\n",
        "    self.fc_hidden=nn.Linear(hidden_size*2,hidden_size)\n",
        "    self.fc_cell=nn.Linear(hidden_size*2,hidden_size)\n",
        "\n",
        "  def forward(self,x):\n",
        "    \"\"\"Defines computation performed at every call\"\"\"\n",
        "\n",
        "    x=x.squeeze(2)\n",
        "    # x is of size (BATCH_SIZE,SEQUENCE_LENGTH)\n",
        "    embedded=self.embedding(x)\n",
        "    #embedded shape : (BATCH_SIZE,SEQUENCE_LENGTH,EMBEDDING_SIZE)\n",
        "\n",
        "    output=embedded\n",
        "    encoder_states,(hidden,cell)=self.lstm(output)\n",
        "    #encoder_states shape: (BATCH_SIZE,SEQUENCE_LENGTH,(1+int(self.bi_dir))*HIDDEN_SIZE)\n",
        "    #hidden shape: ((1+int(self.bi_dir))*NUM_LAYERS,BATCH_SIZE,HIDDEN_SIZE)\n",
        "\n",
        "    # if the encoder is bidirectional\n",
        "    if self.bi_dir:\n",
        "      hidden=self.fc_hidden(torch.cat((hidden[0:1],hidden[1:2]),dim=2))\n",
        "      cell=self.fc_hidden(torch.cat((cell[0:1],cell[1:2]),dim=2))\n",
        "\n",
        "    return encoder_states,hidden,cell\n",
        "    "
      ],
      "execution_count": null,
      "outputs": []
    },
    {
      "cell_type": "code",
      "metadata": {
        "id": "E8Gx1qIJn5KW"
      },
      "source": [
        "class AttentionDecoderLSTM(nn.Module):\n",
        "  def __init__(self,input_size,embedding_size,hidden_size,output_size,num_layers,drop,en_bi=False):\n",
        "    \"\"\"Initializes Attention decoder\n",
        "      Args:\n",
        "        input_size: The number of expected features in the input x\n",
        "        embedding_size: The size of embedding layer to be used \n",
        "        output_size: The number of output features expected (will be equal to vocab size in this case)\n",
        "        num_layers: number of layers of lstm to be used \n",
        "        drop: Defined the dropout fraction of lstm layer\n",
        "        en_bi: defines whether the encoder is bidirectional or not\n",
        "    \"\"\"\n",
        "    super(AttentionDecoderLSTM,self).__init__()\n",
        "    self.hidden_size=hidden_size\n",
        "    self.num_layers=num_layers\n",
        "    self.bi=en_bi\n",
        "\n",
        "    self.embedding=nn.Embedding(input_size,embedding_size)\n",
        "    self.lstm=nn.LSTM(hidden_size*(1+int(self.bi))+embedding_size,hidden_size,num_layers,batch_first=True,dropout=drop)\n",
        "\n",
        "    self.e= nn.Linear(hidden_size*(2+self.bi),1)\n",
        "    self.fc =nn.Linear(hidden_size,output_size)\n",
        "    self.softmax=nn.Softmax(dim=1)\n",
        "    self.relu=nn.ReLU()\n",
        "\n",
        "  def forward(self,x,encoder_states,hidden,cell):\n",
        "    \"\"\"Defines the computation performed at every call\"\"\"\n",
        "\n",
        "    # x shape :(BATCH_SIZE,1)\n",
        "    #encoder_states :(BATCH_SIZE,SEQUENCE_LENGTH,(1+int(self.bi))*HIDDEN_SIZE)\n",
        "\n",
        "    embedding=self.embedding(x)\n",
        "    # embedding shape: (BATCH_SIZE,1,EMBEDDING_SIZE)\n",
        "\n",
        "    h_reshaped=hidden.repeat(100,1,1)\n",
        "    #h_reshaped shape: (SEQUENCE_LENGTH,BATCH_SIZE,HIDDEN_SIZE)\n",
        "\n",
        "    h_reshaped=h_reshaped.permute(1,0,2)\n",
        "    #h_reshaped shape: (BATCH_SIZE,SEQUENCE_LENGTH,HIDDEN_SIZE)\n",
        "\n",
        "    alignment_score =self.relu(self.e(torch.cat((h_reshaped,encoder_states),dim=2)))\n",
        "    #alignment_score shape: (BATCH_SIZE,SEQUENCE_LENGTH,1)\n",
        "\n",
        "    attn_weights= self.softmax(alignment_score)\n",
        "    #attn_weights : (BATCH_SIZE,SEQUENCE_LENGTH,1)\n",
        "\n",
        "    #attn_weights : (BATCH_SIZE,SEQUENCE_LENGTH,1)-->nsk\n",
        "    #encoder_states : (BATCH_SIZE,SEQUENCE_LENGTH,HIDDEN_SIZE*(1+int(self.bi)))-->nsl\n",
        "    #context vector : (BATCH_SIZE,1,HIDDEN_SIZE*(1+int(self.bi)))-->nkl\n",
        "    context_vector=torch.einsum(\"nsk,nsl->nkl\",attn_weights,encoder_states)\n",
        "    #torch.einsum will carry out the matrix multiplication in way it is defined using \n",
        "    #string.In this case it will first permute the attn_weights then carry out regular \n",
        "    #batch matrix multiplication.Above line is similar to torch.bmm(attn_weights.permute(0,2,1),encoder_states)\n",
        "\n",
        "    lstm_input =torch.cat((context_vector,embedding),dim=2)\n",
        "    #lstm_input shape :(BATCH_SIZE,1,HIDDEN_SIZE*(1+int(self.bi))+EMBEDDING_SIZE)\n",
        "\n",
        "    lstm_out,(hidden,cell) =self.lstm(lstm_input,(hidden,cell))\n",
        "    #lstm_out shape: (BATCH_SIZE,1,HIDDEN_SIZE)\n",
        "\n",
        "    decoder_out =self.fc(lstm_out).squeeze(1)\n",
        "    #decoder_out shape: (BATCH_SIZE,OUTPUT_SIZE)\n",
        "\n",
        "    return decoder_out,hidden,cell\n"
      ],
      "execution_count": null,
      "outputs": []
    },
    {
      "cell_type": "code",
      "metadata": {
        "id": "ia02B4yTuZCJ"
      },
      "source": [
        "class AttnModel(nn.Module):\n",
        "  def __init__(self,encoder,deocder):\n",
        "    \"\"\"Initialising our model class with encoder and decoder to be used together as a unit\n",
        "            encoder: EncoderLSTM\n",
        "            decoder: AttentionDecoderLSTM\n",
        "    \"\"\"\n",
        "    super(AttnModel,self).__init__()\n",
        "    self.encoder=encoder\n",
        "    self.decoder=decoder\n",
        "\n",
        "  def forward(self,input,target=None,teacher_fr=0.5,train=False):\n",
        "    \"\"\"Defined the computation performed at every call \"\"\"\n",
        "\n",
        "    #batch_size of input data\n",
        "    batch_size=input.shape[0]\n",
        "\n",
        "    #target length desired\n",
        "    if target is not None:\n",
        "      target_len=target.shape[1] if len(target.shape)==2 else 1\n",
        "    else:\n",
        "      target_len=1\n",
        "\n",
        "    #Vocabulary size\n",
        "    target_n_vocab=n_vocab\n",
        "\n",
        "    outputs =torch.zeros(batch_size,target_len,target_n_vocab).to(device)\n",
        "    encoder_states,hidden,cell=self.encoder(input)\n",
        "\n",
        "    # x shape: (1,1)\n",
        "    x=torch.tensor([[n_vocab]],device=device)\n",
        "    x=x.repeat(batch_size,1)\n",
        "    # x shape: (BATCH_SIZE,1)\n",
        "\n",
        "    for t in range(0,target_len):\n",
        "      decoder_out,hidden,cell =self.decoder(x,encoder_states,hidden,cell)\n",
        "\n",
        "      outputs[:,t]=decoder_out\n",
        "\n",
        "      #pred shape: (BATCH_SIZE,1)\n",
        "      pred =decoder_out.argmax(1)\n",
        "\n",
        "      if train:\n",
        "        x=target[:,t] if random.random()<teacher_fr else pred.to(torch.int32)\n",
        "\n",
        "      else:\n",
        "        x=pred.to(torch.int32)\n",
        "\n",
        "    outputs=outputs.squeeze(1)\n",
        "    return outputs"
      ],
      "execution_count": null,
      "outputs": []
    },
    {
      "cell_type": "markdown",
      "metadata": {
        "id": "nAf5XlT3lCjV"
      },
      "source": [
        "# **Model Training**\n",
        "We define all the hyperparameters below and train the trainer. "
      ]
    },
    {
      "cell_type": "code",
      "metadata": {
        "id": "0W8CfkRd2Ups"
      },
      "source": [
        "#hyperparameters for training\n",
        "EPOCHS=100\n",
        "lr=0.001\n",
        "batch_size=128\n",
        "\n",
        "#model parameters\n",
        "encoder_input_size=n_vocab\n",
        "decoder_input_size=n_vocab+1\n",
        "decoder_output_size=n_vocab\n",
        "output_size=n_vocab\n",
        "encoder_embedding_size=64\n",
        "decoder_embedding_size=64\n",
        "hidden_size=256\n",
        "num_layers=1\n",
        "drop=0"
      ],
      "execution_count": null,
      "outputs": []
    },
    {
      "cell_type": "code",
      "metadata": {
        "id": "NrDW_MyWpWV3"
      },
      "source": [
        "#encoder-decoder initialization\n",
        "encoder=to_device(EncoderLSTM(input_size=encoder_input_size,embedding_size=encoder_embedding_size,hidden_size=256,num_layers=num_layers,dropout=drop,bidirectional=False),device)\n",
        "decoder=to_device(AttentionDecoderLSTM(input_size=decoder_input_size,embedding_size=decoder_embedding_size,hidden_size=hidden_size,output_size=output_size,num_layers=num_layers,drop=drop),device)"
      ],
      "execution_count": null,
      "outputs": []
    },
    {
      "cell_type": "code",
      "metadata": {
        "colab": {
          "base_uri": "https://localhost:8080/"
        },
        "id": "wK_BLDJr_EOf",
        "outputId": "74d623a1-56e0-4411-87f8-2a146bf8af24"
      },
      "source": [
        "#model initialisation for AttnModel\n",
        "model=to_device(AttnModel(encoder,decoder),device)\n",
        "model"
      ],
      "execution_count": null,
      "outputs": [
        {
          "output_type": "execute_result",
          "data": {
            "text/plain": [
              "AttnModel(\n",
              "  (encoder): EncoderLSTM(\n",
              "    (embedding): Embedding(379, 64)\n",
              "    (lstm): LSTM(64, 256, batch_first=True)\n",
              "    (fc_hidden): Linear(in_features=512, out_features=256, bias=True)\n",
              "    (fc_cell): Linear(in_features=512, out_features=256, bias=True)\n",
              "  )\n",
              "  (decoder): AttentionDecoderLSTM(\n",
              "    (embedding): Embedding(380, 64)\n",
              "    (lstm): LSTM(320, 256, batch_first=True)\n",
              "    (e): Linear(in_features=512, out_features=1, bias=True)\n",
              "    (fc): Linear(in_features=256, out_features=379, bias=True)\n",
              "    (softmax): Softmax(dim=1)\n",
              "    (relu): ReLU()\n",
              "  )\n",
              ")"
            ]
          },
          "metadata": {
            "tags": []
          },
          "execution_count": 27
        }
      ]
    },
    {
      "cell_type": "code",
      "metadata": {
        "id": "DjQq03Q7DlJU",
        "colab": {
          "base_uri": "https://localhost:8080/"
        },
        "outputId": "2eeb0a2e-d5b4-4789-b451-f838f384f46c"
      },
      "source": [
        "train_losses=[]\n",
        "#defining loss function\n",
        "loss_fn=nn.CrossEntropyLoss()\n",
        "# defining optimizer for our model\n",
        "optimizer=torch.optim.Adam(model.parameters(),lr)\n",
        "\n",
        "#training of model\n",
        "for epoch in range(EPOCHS):\n",
        "  model.train()\n",
        "  avg_loss=0.0\n",
        "  \n",
        "  for i ,(in_batch,out_batch) in enumerate(zip(train_dl,out_dl)):\n",
        "    output=model(in_batch,out_batch)\n",
        "    loss=loss_fn(output,out_batch)\n",
        "    avg_loss+=loss.item()\n",
        "    loss.backward(retain_graph=True)\n",
        "    optimizer.step()\n",
        "    optimizer.zero_grad()\n",
        "\n",
        "    if i==len(train_dl)-1:\n",
        "      print(\"Epoch[{}/{}],train_loss: {:.5f}\".format(epoch,EPOCHS,float(avg_loss/len(train_dl))))\n",
        "      train_losses.append(float(avg_loss/len(train_dl)))"
      ],
      "execution_count": null,
      "outputs": [
        {
          "output_type": "stream",
          "text": [
            "Epoch[0/100],train_loss: 4.13199\n",
            "Epoch[1/100],train_loss: 3.50085\n",
            "Epoch[2/100],train_loss: 3.16293\n",
            "Epoch[3/100],train_loss: 2.84604\n",
            "Epoch[4/100],train_loss: 2.53736\n",
            "Epoch[5/100],train_loss: 2.25061\n",
            "Epoch[6/100],train_loss: 1.99076\n",
            "Epoch[7/100],train_loss: 1.76501\n",
            "Epoch[8/100],train_loss: 1.57042\n",
            "Epoch[9/100],train_loss: 1.40044\n",
            "Epoch[10/100],train_loss: 1.25443\n",
            "Epoch[11/100],train_loss: 1.13349\n",
            "Epoch[12/100],train_loss: 1.01810\n",
            "Epoch[13/100],train_loss: 0.91894\n",
            "Epoch[14/100],train_loss: 0.83561\n",
            "Epoch[15/100],train_loss: 0.76117\n",
            "Epoch[16/100],train_loss: 0.69467\n",
            "Epoch[17/100],train_loss: 0.64616\n",
            "Epoch[18/100],train_loss: 0.58690\n",
            "Epoch[19/100],train_loss: 0.54477\n",
            "Epoch[20/100],train_loss: 0.50219\n",
            "Epoch[21/100],train_loss: 0.47479\n",
            "Epoch[22/100],train_loss: 0.45479\n",
            "Epoch[23/100],train_loss: 0.41981\n",
            "Epoch[24/100],train_loss: 0.38544\n",
            "Epoch[25/100],train_loss: 0.37184\n",
            "Epoch[26/100],train_loss: 0.36230\n",
            "Epoch[27/100],train_loss: 0.33518\n",
            "Epoch[28/100],train_loss: 0.31308\n",
            "Epoch[29/100],train_loss: 0.30795\n",
            "Epoch[30/100],train_loss: 0.30429\n",
            "Epoch[31/100],train_loss: 0.29194\n",
            "Epoch[32/100],train_loss: 0.27748\n",
            "Epoch[33/100],train_loss: 0.27372\n",
            "Epoch[34/100],train_loss: 0.26140\n",
            "Epoch[35/100],train_loss: 0.25367\n",
            "Epoch[36/100],train_loss: 0.24513\n",
            "Epoch[37/100],train_loss: 0.24908\n",
            "Epoch[38/100],train_loss: 0.24260\n",
            "Epoch[39/100],train_loss: 0.23897\n",
            "Epoch[40/100],train_loss: 0.22513\n",
            "Epoch[41/100],train_loss: 0.23077\n",
            "Epoch[42/100],train_loss: 0.23122\n",
            "Epoch[43/100],train_loss: 0.22587\n",
            "Epoch[44/100],train_loss: 0.21020\n",
            "Epoch[45/100],train_loss: 0.20358\n",
            "Epoch[46/100],train_loss: 0.20811\n",
            "Epoch[47/100],train_loss: 0.21134\n",
            "Epoch[48/100],train_loss: 0.21200\n",
            "Epoch[49/100],train_loss: 0.20221\n",
            "Epoch[50/100],train_loss: 0.20720\n",
            "Epoch[51/100],train_loss: 0.20345\n",
            "Epoch[52/100],train_loss: 0.19490\n",
            "Epoch[53/100],train_loss: 0.19234\n",
            "Epoch[54/100],train_loss: 0.19303\n",
            "Epoch[55/100],train_loss: 0.18913\n",
            "Epoch[56/100],train_loss: 0.18779\n",
            "Epoch[57/100],train_loss: 0.18883\n",
            "Epoch[58/100],train_loss: 0.18766\n",
            "Epoch[59/100],train_loss: 0.18468\n",
            "Epoch[60/100],train_loss: 0.17732\n",
            "Epoch[61/100],train_loss: 0.17726\n",
            "Epoch[62/100],train_loss: 0.18100\n",
            "Epoch[63/100],train_loss: 0.17465\n",
            "Epoch[64/100],train_loss: 0.18397\n",
            "Epoch[65/100],train_loss: 0.17416\n",
            "Epoch[66/100],train_loss: 0.16837\n",
            "Epoch[67/100],train_loss: 0.16704\n",
            "Epoch[68/100],train_loss: 0.18391\n",
            "Epoch[69/100],train_loss: 0.16335\n",
            "Epoch[70/100],train_loss: 0.16159\n",
            "Epoch[71/100],train_loss: 0.16367\n",
            "Epoch[72/100],train_loss: 0.17066\n",
            "Epoch[73/100],train_loss: 0.16937\n",
            "Epoch[74/100],train_loss: 0.16314\n",
            "Epoch[75/100],train_loss: 0.16613\n",
            "Epoch[76/100],train_loss: 0.16310\n",
            "Epoch[77/100],train_loss: 0.16048\n",
            "Epoch[78/100],train_loss: 0.15489\n",
            "Epoch[79/100],train_loss: 0.16407\n",
            "Epoch[80/100],train_loss: 0.16854\n",
            "Epoch[81/100],train_loss: 0.16070\n",
            "Epoch[82/100],train_loss: 0.16593\n",
            "Epoch[83/100],train_loss: 0.14968\n",
            "Epoch[84/100],train_loss: 0.15177\n",
            "Epoch[85/100],train_loss: 0.15683\n",
            "Epoch[86/100],train_loss: 0.14844\n",
            "Epoch[87/100],train_loss: 0.15412\n",
            "Epoch[88/100],train_loss: 0.15935\n",
            "Epoch[89/100],train_loss: 0.15201\n",
            "Epoch[90/100],train_loss: 0.14803\n",
            "Epoch[91/100],train_loss: 0.14591\n",
            "Epoch[92/100],train_loss: 0.15057\n",
            "Epoch[93/100],train_loss: 0.15227\n",
            "Epoch[94/100],train_loss: 0.15320\n",
            "Epoch[95/100],train_loss: 0.14794\n",
            "Epoch[96/100],train_loss: 0.14230\n",
            "Epoch[97/100],train_loss: 0.14936\n",
            "Epoch[98/100],train_loss: 0.15055\n",
            "Epoch[99/100],train_loss: 0.14361\n"
          ],
          "name": "stdout"
        }
      ]
    },
    {
      "cell_type": "markdown",
      "metadata": {
        "id": "-aM5mEiaPtvH"
      },
      "source": [
        "# **Saving & Loading the Model**\n",
        "The following cells save all the parameters of the trained model and also prepares them to be loaded to the generator. \n",
        "\n"
      ]
    },
    {
      "cell_type": "code",
      "metadata": {
        "id": "zDsGN65mVlQc",
        "colab": {
          "base_uri": "https://localhost:8080/",
          "height": 17
        },
        "outputId": "43836635-0d7e-4f7d-83a1-9aa820893560"
      },
      "source": [
        "#torch.save used for saving our model in the file model_data.pth\n",
        "torch.save(model.state_dict(),'model_data.pth')\n",
        "\n",
        "# download the file\n",
        "# helper library provided by colab to deal with files, in this case downloading automatically\n",
        "files.download('model_data.pth')"
      ],
      "execution_count": null,
      "outputs": [
        {
          "output_type": "display_data",
          "data": {
            "application/javascript": [
              "\n",
              "    async function download(id, filename, size) {\n",
              "      if (!google.colab.kernel.accessAllowed) {\n",
              "        return;\n",
              "      }\n",
              "      const div = document.createElement('div');\n",
              "      const label = document.createElement('label');\n",
              "      label.textContent = `Downloading \"${filename}\": `;\n",
              "      div.appendChild(label);\n",
              "      const progress = document.createElement('progress');\n",
              "      progress.max = size;\n",
              "      div.appendChild(progress);\n",
              "      document.body.appendChild(div);\n",
              "\n",
              "      const buffers = [];\n",
              "      let downloaded = 0;\n",
              "\n",
              "      const channel = await google.colab.kernel.comms.open(id);\n",
              "      // Send a message to notify the kernel that we're ready.\n",
              "      channel.send({})\n",
              "\n",
              "      for await (const message of channel.messages) {\n",
              "        // Send a message to notify the kernel that we're ready.\n",
              "        channel.send({})\n",
              "        if (message.buffers) {\n",
              "          for (const buffer of message.buffers) {\n",
              "            buffers.push(buffer);\n",
              "            downloaded += buffer.byteLength;\n",
              "            progress.value = downloaded;\n",
              "          }\n",
              "        }\n",
              "      }\n",
              "      const blob = new Blob(buffers, {type: 'application/binary'});\n",
              "      const a = document.createElement('a');\n",
              "      a.href = window.URL.createObjectURL(blob);\n",
              "      a.download = filename;\n",
              "      div.appendChild(a);\n",
              "      a.click();\n",
              "      div.remove();\n",
              "    }\n",
              "  "
            ],
            "text/plain": [
              "<IPython.core.display.Javascript object>"
            ]
          },
          "metadata": {
            "tags": []
          }
        },
        {
          "output_type": "display_data",
          "data": {
            "application/javascript": [
              "download(\"download_9993c502-e629-4ea9-b5fb-7ad3d4be9901\", \"model_data.pth\", 5327233)"
            ],
            "text/plain": [
              "<IPython.core.display.Javascript object>"
            ]
          },
          "metadata": {
            "tags": []
          }
        }
      ]
    },
    {
      "cell_type": "code",
      "metadata": {
        "colab": {
          "base_uri": "https://localhost:8080/"
        },
        "id": "UmBqUKwBM8V-",
        "outputId": "f929fe65-c21d-4a7f-8cc1-dd0d9b1e9fbf"
      },
      "source": [
        "#loading the model in state_dict\n",
        "state_dict=torch.load('model_data.pth')\n",
        "model.load_state_dict(state_dict)"
      ],
      "execution_count": null,
      "outputs": [
        {
          "output_type": "execute_result",
          "data": {
            "text/plain": [
              "<All keys matched successfully>"
            ]
          },
          "metadata": {
            "tags": []
          },
          "execution_count": 30
        }
      ]
    },
    {
      "cell_type": "markdown",
      "metadata": {
        "id": "PhTG5FZpRElB"
      },
      "source": [
        "# **Music Generation and Analysis**\n",
        "The following cells contain the code that will be run to generate the music.\n",
        "\n"
      ]
    },
    {
      "cell_type": "code",
      "metadata": {
        "id": "2VjF2Pvgkllc"
      },
      "source": [
        "def generate_notes(model ,network_input,network_output,pitchnames ,n_vocab):\n",
        "  \"\"\"Generate notes from the neural network based on a sequence of notes\"\"\"\n",
        "  # pick a random sequence from the input as staring point for the prediction\n",
        "\n",
        "  # to generate a seed from the song by randomly selecting a sequence from the given music\n",
        "  start =np.random.randint(0,len(network_input)-1) \n",
        "\n",
        "  # this is to map notes from the integers \n",
        "  int_to_note =dict((number,note) for number ,note in enumerate(pitchnames))\n",
        "\n",
        "  pattern =network_input[start] #will return a tensor of size(100,1)\n",
        "  p_out=network_output[start]\n",
        "  prediction_output =[] #empty list to be appended by the output ,which will be returned eventually in the end\n",
        "  \n",
        "  #generate 500 notes\n",
        "  for note_index in range(300):\n",
        "\n",
        "    #prediction_input should be of size (1,SEQUENCE_LENGTH,1)\n",
        "    #prediction_input being transfered to cuda device\n",
        "    prediction_input =torch.reshape(pattern ,((1,len(pattern),1))).to(device)\n",
        "\n",
        "    #prediction being made from the given input,size(1,NUM_CLASSES)\n",
        "    prediction = model(prediction_input,p_out)\n",
        "\n",
        "    #gives the tensor form with only single element\n",
        "    index =torch.argmax(prediction) \n",
        "    #gives integer\n",
        "    index=index.item()  \n",
        "    #integer index being converted to note again            \n",
        "    result =int_to_note[index]     \n",
        "    #output prediction being made \n",
        "    prediction_output.append(result)\n",
        "    \n",
        "    index =torch.tensor([index])\n",
        "    index =index.reshape(1,1)\n",
        "    \n",
        "    pattern= torch.cat((pattern,index),dim=0)\n",
        "    pattern =pattern[1:].to(torch.int32)\n",
        "  \n",
        "  return prediction_output"
      ],
      "execution_count": null,
      "outputs": []
    },
    {
      "cell_type": "code",
      "metadata": {
        "id": "B8VUxwQdknBN"
      },
      "source": [
        "def convert_to_midi(prediction_output):\n",
        "  \"\"\"convert the output from the prediction to notes and create midi file from \n",
        "  the notes\"\"\"\n",
        "  offset=0\n",
        "  output_notes=[]\n",
        "  #create note and chord objects based on the values generated by the model\n",
        "  for pattern in prediction_output:\n",
        "    #pattern is a chord\n",
        "    if (',' in pattern) or pattern.isdigit():\n",
        "      notes_in_chord=pattern.split(',')\n",
        "      notes=[]\n",
        "      for current_note in notes_in_chord:\n",
        "\n",
        "        new_note=note.Note(int(current_note))\n",
        "        new_note.storedInstrument =instrument.Piano()\n",
        "        notes.append(new_note)\n",
        "\n",
        "      new_chord=chord.Chord(notes)\n",
        "      new_chord.offset= offset\n",
        "      output_notes.append(new_chord)\n",
        "      #pattern is a note\n",
        "    elif pattern=='rest':\n",
        "      new_rest=note.Rest(pattern)\n",
        "      new_rest.offset=offset\n",
        "      new_rest.storedInstrument=instrument.Piano()\n",
        "      output_notes.append(new_rest)\n",
        "    \n",
        "    else:\n",
        "      new_note=note.Note(pattern)\n",
        "      new_note.offset=offset\n",
        "      new_note.storedInstrument=instrument.Piano()\n",
        "      output_notes.append(new_note)\n",
        "\n",
        "    offset+=0.5\n",
        "    #increase offset each iteration so that notes do not stack\n",
        "\n",
        "  midi_stream =stream.Stream(output_notes)\n",
        "\n",
        "  midi_stream.write('midi',fp='/content/test_output.mid')"
      ],
      "execution_count": null,
      "outputs": []
    },
    {
      "cell_type": "code",
      "metadata": {
        "id": "8eKFmIcYDHLI"
      },
      "source": [
        "# generate_notes function defined above makes prediction of \n",
        "# notes using trained model and returns a list\n",
        "pred=generate_notes(model,net_in,net_out,pitchnames,n_vocab)"
      ],
      "execution_count": null,
      "outputs": []
    },
    {
      "cell_type": "code",
      "metadata": {
        "colab": {
          "base_uri": "https://localhost:8080/"
        },
        "id": "KwNUtoHLdxkM",
        "outputId": "dd671c1d-a2bc-46fe-d7a6-176220ced501"
      },
      "source": [
        "#predction notes will be printed\n",
        "print(pred)"
      ],
      "execution_count": null,
      "outputs": [
        {
          "output_type": "stream",
          "text": [
            "['5,7,0', '1,5', '8,11,2', '3,6,10', '3', 'B6', '5,8', '5,10', '5,7,10', '4,5,10', '1,5', 'F#6', '4,9,10', '5,7,0', 'B6', '5,8', '5,10', '5,7,10', '4,5,10', '1,5', 'F#6', '8,9,1', 'B6', '5,7,0', 'B6', '5,7,10', '3,6,10', '8,9,1', 'B6', '5,8', '11,3,6', '5,8', '8,9,1', 'B6', '11,3,6', '8,9,1', 'B6', '5,8', '6,8,10,2', 'B6', '2,5,8,11', '11,3,6', '8,9,1', 'B6', 'G#4', '6,8,10,2', '3', '10,0,2,5,7', '5,7,0', '2,5,8,11', '4,7', '5,7,10', '2,5,8,11', '5', '4,7', '9,11,3', '11,2,6', '9,11,3', 'B6', '4,5,10', '6,8,10,2', '6,9,11,2', 'B6', '8,9,1', '7,10,1,3', '9,11,3', 'B6', '11,3,6', '10,0,2,5,7', '8,9,1', '0,1,4', 'B6', '11,2,6', '1,2,5', '8,9,1', '11,2,6', 'B6', '5,7,10', '3,6,10', '8,9,1', '8,11,2', '11,3,6', '6,8,10,2', '9,11,3', 'B6', '11,3,6', '7,11', '8,9,1', '10,0,2,5', '9,0,4', '5,7,0', '11,3,6', '4,8', '3', '11,2,6', '3,6,10', '8,11,2', '5,10', '5,7,0', '4,7,10', '8,11,2', '5,10', '11,3,6', 'G3', '10,1,3,6', '3,6,8', '11,3,6', '4,7,10', '11,3,6', '8,11,2', '5,10', 'D4', '11,3,6', '5,7,0', '8,11,2', 'B-5', '5,10', '1,2,5', '5,10', '8,11,2', '11,3,6', '5,7,0', '4,7,10', '11,3,6', 'B-5', '5,10', 'D4', '8,11,2', '5,7,0', '4,7,10', '5,7,0', '8,11,2', '8,11,2', '5,7,0', '6,8,10,2', '5,10', 'D4', '11,3,6', '6,9,11,2', '5,7,0', '7,10,1,3', '8,11,2', '5,10', '8,11,2', '3', '6,8,11', '6,8,10,2', '4,5,10', '6,8,10,2', '4,7,10', '8,11,2', 'F#7', '5,10', 'D4', '6,8,10,2', 'C2', '8,11,2', '9,11,3', '8,11,2', '10,2,5', '6,8,11', '4,5,10', 'C2', '3,6,8', '4,7', 'C2', '8,11,2', '4,5,10', '6,8,10,2', '3,6,8', '4,7', '4,5,10', '4,7', '4,7,10', '6,8,10,2', '7,0', '0,2,6,8', '6,8,11', '6,8,10,2', '0,2,6,8', '6,8,11', '5,10', '6,8,10,2', '3,6,8', '4,7', 'D4', '4,8', '5,10', '3,6,8', '6,8,11', '3,6,8', '6,8,10,2', '5', '4,7', '5', '5,10', '6,8,10,2', '3,6,8', '4,7', '5', '8,11,2', '10,1,3,6', '3', '3,6,8', '7,10,2', '10,1,3,6', '11,3,6', '7,10,1,3', 'B-5', '10,1,3,6', '4,5,9', '5,7,0', '10,1,3,6', '4,5,9', '10,11,3', '7,10,1,3', '10,1,3,6', '1,3,6,8', '4,7,10', '11,3,6', '5,8', '10,1,3,6', '4,7,10', '11,3,6', '5,8', '1,3,6,8', '9,1,4', '7,10,1,3', 'B-5', '8,9,11', 'A2', '10,0,2,5', '6,11,0', '11,3,6', '5,8', '10,0,2,5', '9,11,1,4', '11,3,6', '5,8', '4,5,9', '6,8,11', '9,1,4', '4,7', '5,8', '11,3,6', '1,3,6,8', '10,1,3,6', 'A2', '4,7', '11,3,6', '5,8', '0,4', '9,1,4', '4,7', '5,8', '11,3,6', '10,1,3,6', '6,8,11', '4,7', '8,11,2', '1,3,6,8', '6,9,11,2', '4,7', '4,5,10', '11,2,6', '8,11,2', '5,10', '5,8', '4,7', '4,5,10', '9,1,4', '6,9,11,2', '1,2,5', '10,1,3,6', '4,7', '9,1,4', 'A2', '10,0,2,5', '5,7,10', 'A2', '10,0,2,5', '4,7', '10,0,2,5', '11,2,6', 'B-5', '9,1,4', 'A2', '6,9,11,2', '9,1,4', '4,7', '10,0,2,5', 'B6', 'B-5', '7,0', '10,1,3,6', '1,2,5', '11,1,6', '6,9,11,2', '1,2,5', '5,8']\n"
          ],
          "name": "stdout"
        }
      ]
    },
    {
      "cell_type": "code",
      "metadata": {
        "colab": {
          "base_uri": "https://localhost:8080/",
          "height": 34
        },
        "id": "Fa4y7nq-ue1t",
        "outputId": "62944317-0485-4a75-d66b-0e3acb497361"
      },
      "source": [
        "#converting the prediction list of notes to\n",
        "convert_to_midi(pred)\n",
        "files.download('test_output.mid')"
      ],
      "execution_count": null,
      "outputs": [
        {
          "output_type": "display_data",
          "data": {
            "application/javascript": [
              "\n",
              "    async function download(id, filename, size) {\n",
              "      if (!google.colab.kernel.accessAllowed) {\n",
              "        return;\n",
              "      }\n",
              "      const div = document.createElement('div');\n",
              "      const label = document.createElement('label');\n",
              "      label.textContent = `Downloading \"${filename}\": `;\n",
              "      div.appendChild(label);\n",
              "      const progress = document.createElement('progress');\n",
              "      progress.max = size;\n",
              "      div.appendChild(progress);\n",
              "      document.body.appendChild(div);\n",
              "\n",
              "      const buffers = [];\n",
              "      let downloaded = 0;\n",
              "\n",
              "      const channel = await google.colab.kernel.comms.open(id);\n",
              "      // Send a message to notify the kernel that we're ready.\n",
              "      channel.send({})\n",
              "\n",
              "      for await (const message of channel.messages) {\n",
              "        // Send a message to notify the kernel that we're ready.\n",
              "        channel.send({})\n",
              "        if (message.buffers) {\n",
              "          for (const buffer of message.buffers) {\n",
              "            buffers.push(buffer);\n",
              "            downloaded += buffer.byteLength;\n",
              "            progress.value = downloaded;\n",
              "          }\n",
              "        }\n",
              "      }\n",
              "      const blob = new Blob(buffers, {type: 'application/binary'});\n",
              "      const a = document.createElement('a');\n",
              "      a.href = window.URL.createObjectURL(blob);\n",
              "      a.download = filename;\n",
              "      div.appendChild(a);\n",
              "      a.click();\n",
              "      div.remove();\n",
              "    }\n",
              "  "
            ],
            "text/plain": [
              "<IPython.core.display.Javascript object>"
            ]
          },
          "metadata": {
            "tags": []
          }
        },
        {
          "output_type": "display_data",
          "data": {
            "application/javascript": [
              "download(\"download_21367494-4fb0-4374-a636-0f455da3a78a\", \"test_output.mid\", 6768)"
            ],
            "text/plain": [
              "<IPython.core.display.Javascript object>"
            ]
          },
          "metadata": {
            "tags": []
          }
        }
      ]
    },
    {
      "cell_type": "code",
      "metadata": {
        "colab": {
          "base_uri": "https://localhost:8080/",
          "height": 407
        },
        "id": "9QdhznURXYuL",
        "outputId": "8f73c501-ac37-44bc-af59-5517c63407ec"
      },
      "source": [
        "from IPython.display import HTML, display\n",
        "\n",
        "display(HTML(\"\"\"\n",
        "<style>\n",
        "#output-body {\n",
        "    display: flex;\n",
        "    align-items: center;\n",
        "    justify-content: center;\n",
        "}\n",
        "</style>\n",
        "\"\"\"))\n",
        "plt.style.use( 'ggplot')\n",
        "plt.figure(figsize=(9,6))\n",
        "plt.plot(range(len(train_losses)),train_losses,label='Attention',color='green')\n",
        "plt.xlabel('Epochs')\n",
        "plt.ylabel('TainingLoss')\n",
        "plt.title('Training loss wrt No. of EPOCHS')\n",
        "plt.legend()\n",
        "plt.show()"
      ],
      "execution_count": null,
      "outputs": [
        {
          "output_type": "display_data",
          "data": {
            "text/html": [
              "\n",
              "<style>\n",
              "#output-body {\n",
              "    display: flex;\n",
              "    align-items: center;\n",
              "    justify-content: center;\n",
              "}\n",
              "</style>\n"
            ],
            "text/plain": [
              "<IPython.core.display.HTML object>"
            ]
          },
          "metadata": {
            "tags": []
          }
        },
        {
          "output_type": "display_data",
          "data": {
            "image/png": "[encoded data removed]",
            "text/plain": [
              "<Figure size 648x432 with 1 Axes>"
            ]
          },
          "metadata": {
            "tags": [],
            "image/png": {
              "width": 555,
              "height": 390
            }
          }
        }
      ]
    }
  ]
}